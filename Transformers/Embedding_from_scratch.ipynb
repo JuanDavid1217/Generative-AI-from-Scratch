{
  "cells": [
    {
      "cell_type": "markdown",
      "metadata": {
        "id": "view-in-github",
        "colab_type": "text"
      },
      "source": [
        "<a href=\"https://colab.research.google.com/github/JuanDavid1217/Generative-AI-from-Scratch/blob/main/Transformers/Embedding_from_scratch.ipynb\" target=\"_parent\"><img src=\"https://colab.research.google.com/assets/colab-badge.svg\" alt=\"Open In Colab\"/></a>"
      ]
    },
    {
      "cell_type": "markdown",
      "metadata": {
        "id": "pAvXfaR8qZTX"
      },
      "source": [
        "**Primero se necesita entender como funcionan lo Embeddings**"
      ]
    },
    {
      "cell_type": "code",
      "execution_count": null,
      "metadata": {
        "id": "BT8gperVqUhz"
      },
      "outputs": [],
      "source": [
        "import numpy as np\n",
        "from pickle import load"
      ]
    },
    {
      "cell_type": "code",
      "execution_count": null,
      "metadata": {
        "id": "wXqWbx_BxQo1"
      },
      "outputs": [],
      "source": [
        "class Activation_ReLU:\n",
        "  def __init__(self):\n",
        "    self.input=[]\n",
        "    self.output=[]\n",
        "    self.dinputs=[]\n",
        "\n",
        "  def forward(self, input):\n",
        "    self.input = input\n",
        "    self.output=np.maximum(0, input)\n",
        "\n",
        "  def backward(self, dvalues):\n",
        "    dvalues = np.sum(dvalues, axis=0, keepdims=True)\n",
        "    self.dinputs=dvalues*np.where(self.output > 0, 1, 0)\n",
        "\n",
        "class Activation_Sigmoid:\n",
        "  def __init__(self):\n",
        "    self.input=[]\n",
        "    self.output=[]\n",
        "    self.dinputs=[]\n",
        "\n",
        "  def forward(self, input):\n",
        "    self.output = 1 / (1 + np.exp(-input))\n",
        "\n",
        "  def backward(self, dvalues):\n",
        "    self.dinputs = dvalues * (1 - self.output) * self.output\n",
        "\n",
        "class Activation_SoftMax:\n",
        "  def __init__(self):\n",
        "    self.input=[]\n",
        "    self.output=[]\n",
        "    self.dinputs=[]\n",
        "\n",
        "  def forward(self, input):\n",
        "    exp_z = np.exp(input - np.max(input))\n",
        "    self.output = exp_z / np.sum(exp_z, axis=0)\n",
        "\n",
        "  def backward(self, dvalues):\n",
        "    # Create uninitialized array\n",
        "    self.dinputs = np.empty_like(dvalues)\n",
        "    # Enumerate outputs and gradients\n",
        "    for index, (single_output, single_dvalues) in enumerate(zip(self.output, dvalues)):\n",
        "      # Flatten output array\n",
        "      single_output = single_output.reshape(-1, 1)\n",
        "      # Calculate Jacobian matrix of the output and\n",
        "      jacobian_matrix = np.diagflat(single_output) - np.dot(single_output, single_output.T)\n",
        "      # Calculate sample-wise gradient\n",
        "      # and add it to the array of sample gradients\n",
        "      self.dinputs[index] = np.dot(jacobian_matrix, single_dvalues)\n",
        "\n"
      ]
    },
    {
      "cell_type": "code",
      "execution_count": null,
      "metadata": {
        "id": "VkywBDDRxZhn"
      },
      "outputs": [],
      "source": [
        "class Dense:\n",
        "  def __init__(self, input_dim, neurons, bias=False):\n",
        "    self.weights=0.1*np.random.randn(input_dim, neurons)\n",
        "    self.bias=bias\n",
        "    if self.bias:\n",
        "      self.biases=np.zeros((1, neurons))\n",
        "      self.dbiases=0\n",
        "    self.input=[]\n",
        "    self.output=[]\n",
        "    self.dweights=0\n",
        "    self.dinputs=0\n",
        "\n",
        "  def  forward(self, input):\n",
        "    self.input=input\n",
        "    if self.bias:\n",
        "      self.output = np.dot(self.input, self.weights)+self.biases\n",
        "    else:\n",
        "      self.output=np.dot(self.input, self.weights)\n",
        "\n",
        "  def backward(self, dvalues):\n",
        "    if self.bias:\n",
        "      self.dbiases=dvalues\n",
        "    else:\n",
        "      if dvalues.shape[0]!=1:\n",
        "        dvalues=dvalues.reshape(1, -1)\n",
        "\n",
        "    if self.input.shape[0]!=1:\n",
        "        self.input=self.input.reshape(1, -1)\n",
        "    self.dweights=np.dot(self.input.T, dvalues)\n",
        "    self.dinputs=np.dot(dvalues, self.weights.T)\n"
      ]
    },
    {
      "cell_type": "code",
      "execution_count": null,
      "metadata": {
        "id": "utieyHkpxvbo"
      },
      "outputs": [],
      "source": [
        "class Optimizer_Adam:\n",
        "  def __init__(self, learning_rate=0.01, decay=0., epsilon=1e-7,beta_1=0.9, beta_2=0.999):\n",
        "    self.learning_rate = learning_rate\n",
        "    self.current_learning_rate = learning_rate\n",
        "    self.decay = decay\n",
        "    self.iterations = 0\n",
        "    self.epsilon = epsilon\n",
        "    self.beta_1 = beta_1\n",
        "    self.beta_2 = beta_2\n",
        "\n",
        "\n",
        "  def pre_update_params(self):\n",
        "    if self.decay:\n",
        "      self.current_learning_rate = self.learning_rate * (1. / (1. + self.decay * self.iterations))\n",
        "\n",
        "  def update_params(self, layer):\n",
        "    if not hasattr(layer, 'weight_cache'):\n",
        "      layer.weight_momentums = np.zeros_like(layer.weights)\n",
        "      layer.weight_cache = np.zeros_like(layer.weights)\n",
        "      if hasattr(layer, 'biases'):\n",
        "        layer.bias_momentums = np.zeros_like(layer.biases)\n",
        "        layer.bias_cache = np.zeros_like(layer.biases)\n",
        "\n",
        "    # Update momentum with current gradients\n",
        "    layer.weight_momentums = self.beta_1 * layer.weight_momentums + (1 - self.beta_1) * layer.dweights\n",
        "    if hasattr(layer, 'biases'):\n",
        "      layer.bias_momentums = self.beta_1 * layer.bias_momentums + (1 - self.beta_1) * layer.dbiases\n",
        "    # Get corrected momentum\n",
        "    # self.iteration is 0 at first pass\n",
        "    # and we need to start with 1 here\n",
        "    weight_momentums_corrected = layer.weight_momentums / (1 - self.beta_1 ** (self.iterations + 1))\n",
        "    if hasattr(layer, 'biases'):\n",
        "      bias_momentums_corrected = layer.bias_momentums / (1 - self.beta_1 ** (self.iterations + 1))\n",
        "    # Update cache with squared current gradients\n",
        "    layer.weight_cache = self.beta_2 * layer.weight_cache + (1 - self.beta_2) * layer.dweights**2\n",
        "    if hasattr(layer, 'biases'):\n",
        "      layer.bias_cache = self.beta_2 * layer.bias_cache + (1 - self.beta_2) * layer.dbiases**2\n",
        "    # Get corrected cache\n",
        "    weight_cache_corrected = layer.weight_cache / (1 - self.beta_2 ** (self.iterations + 1))\n",
        "    if hasattr(layer, 'biases'):\n",
        "      bias_cache_corrected = layer.bias_cache / (1 - self.beta_2 ** (self.iterations + 1))\n",
        "    # Vanilla SGD parameter update + normalization\n",
        "    # with square rooted cache\n",
        "    layer.weights += -self.current_learning_rate * weight_momentums_corrected / (np.sqrt(weight_cache_corrected) + self.epsilon)\n",
        "    if hasattr(layer, 'biases'):\n",
        "      layer.biases += -self.current_learning_rate * bias_momentums_corrected / (np.sqrt(bias_cache_corrected) + self.epsilon)\n",
        "\n",
        "  # Call once after any parameter updates\n",
        "  def post_update_params(self):\n",
        "    self.iterations += 1\n",
        "\n",
        "\n",
        "class Rmsprop:\n",
        "  def __init__(self, learning_rate=0.1, decay=0., epsilon=1e-8, rho=0.9):\n",
        "    self.learning_rate = learning_rate\n",
        "    self.current_learning_rate = learning_rate\n",
        "    self.decay = decay\n",
        "    self.iterations = 0\n",
        "    self.epsilon = epsilon\n",
        "    self.rho = rho\n",
        "\n",
        "  def pre_update_params(self):\n",
        "    if self.decay:\n",
        "      self.current_learning_rate = self.learning_rate * \\\n",
        "          (1. / (1. + self.decay * self.iterations))\n",
        "\n",
        "  def update_params(self, layer):\n",
        "    if not hasattr(layer, 'wight_cache'):\n",
        "      layer.weight_cache = np.zeros_like(layer.weights)\n",
        "    if hasattr(layer, 'biases'):\n",
        "      layer.bias_cache = np.zeros_like(layer.biases)\n",
        "\n",
        "    layer.weight_cache = self.rho * layer.weight_cache + \\\n",
        "        (1 - self.rho) * layer.dweights**2\n",
        "    if hasattr(layer, 'biases'):\n",
        "      layer.bias_cache = self.rho * layer.bias_cache + \\\n",
        "          (1 - self.rho) * layer.dbiases**2\n",
        "\n",
        "    layer.weights += -self.current_learning_rate * \\\n",
        "                    layer.dweights / \\\n",
        "                    (np.sqrt(layer.weight_cache) + self.epsilon)\n",
        "    if hasattr(layer, 'biases'):\n",
        "      layer.biases += -self.current_learning_rate * \\\n",
        "                      layer.dbiases / \\\n",
        "                      (np.sqrt(layer.bias_cache) + self.epsilon)\n",
        "    return layer\n",
        "\n",
        "  def post_update_params(self):\n",
        "    self.iterations += 1"
      ]
    },
    {
      "cell_type": "code",
      "execution_count": null,
      "metadata": {
        "id": "hjZkcK5B96jb"
      },
      "outputs": [],
      "source": [
        "class LossBinaryCrossEntropy():\n",
        "  def forward(self, y_pred, y_true):\n",
        "    y_pred_clipped = np.clip(y_pred, 1e-7, 1 - 1e-7)\n",
        "\n",
        "    sample_losses = -(y_true * np.log(y_pred_clipped) + (1 - y_true) * np.log(1 - y_pred_clipped))\n",
        "    #sample_losses = np.mean(sample_losses, axis=1)\n",
        "\n",
        "    return sample_losses\n",
        "\n",
        "  def backward(self, dvalues, y_true):\n",
        "    samples = len(dvalues)\n",
        "    outputs = len(dvalues)\n",
        "\n",
        "    clipped_dvalues = np.clip(dvalues, 1e-7, 1 - 1e-7)\n",
        "\n",
        "    dinputs = -(y_true / clipped_dvalues - (1 - y_true)\n",
        "                     /(1 - clipped_dvalues))/outputs\n",
        "\n",
        "    return dinputs / samples"
      ]
    },
    {
      "cell_type": "code",
      "execution_count": null,
      "metadata": {
        "id": "kEnCO7G4xxZB"
      },
      "outputs": [],
      "source": [
        "class Embedding:\n",
        "  def __init__(self, vocab_size, sentence_len, latent_dim):\n",
        "    self.vocab_size = vocab_size\n",
        "    self.sentence_len = sentence_len\n",
        "    self.layer1 = Dense(vocab_size, latent_dim, True)\n",
        "    self.activationLayer1 = Activation_ReLU()\n",
        "    self.layer2 = Dense(latent_dim, vocab_size, True)\n",
        "    self.activationLayer2 = Activation_Sigmoid()\n",
        "    self.optimizer = Optimizer_Adam(learning_rate=0.01)#Rmsprop(learning_rate=0.0001)\n",
        "    self.trainableLayers = [self.layer1, self.layer2]\n",
        "    self.lossFunction = LossBinaryCrossEntropy()\n",
        "\n",
        "  def forward(self, input):\n",
        "    self.layer1.forward(input)\n",
        "    self.activationLayer1.forward(self.layer1.output)\n",
        "    self.layer2.forward(self.activationLayer1.output)\n",
        "    self.activationLayer2.forward(self.layer2.output)\n",
        "    return self.activationLayer2.output\n",
        "\n",
        "  def backward(self, loss):\n",
        "    self.activationLayer2.backward(loss)\n",
        "    self.layer2.backward(self.activationLayer2.dinputs)\n",
        "    self.activationLayer1.backward(self.layer2.dinputs)\n",
        "    self.layer1.backward(self.activationLayer1.dinputs)\n",
        "\n",
        "  def generateOneHotVector(self, input):\n",
        "    oneHotVectors = []\n",
        "    for position in input:\n",
        "      oneHot = np.zeros(self.vocab_size)\n",
        "      oneHot[position] = 1\n",
        "      oneHotVectors.append(oneHot)\n",
        "    return oneHotVectors\n",
        "\n",
        "  def get_SumContext(self, vector):\n",
        "    y_labels=[]\n",
        "    for i in range(len(vector)):\n",
        "      contexts=[]\n",
        "      if i == 0:\n",
        "        contexts = vector[i+1:i+3]\n",
        "      else:\n",
        "        min=i-2\n",
        "        if min<0:\n",
        "          min=0\n",
        "        if len(vector[i+1:i+3])!=0 and len(vector[min:i])!=0:\n",
        "          contexts = np.concatenate((vector[min:i], vector[i+1:i+3]))\n",
        "        elif len(vector[i+1:i+3])==0:\n",
        "          contexts = vector[min:i]\n",
        "      context=[]\n",
        "      for array in contexts:\n",
        "        if len(context)==0:\n",
        "          context = array\n",
        "        else:\n",
        "          context = context + array\n",
        "      y_labels.append(context)\n",
        "    return y_labels\n",
        "\n",
        "  def train(self, input, epoch):\n",
        "    for i in range(epoch):\n",
        "      lossByEpoch=0\n",
        "      for sentence in input:\n",
        "        lossBySentence=0\n",
        "        x_labels= self.generateOneHotVector(sentence)\n",
        "        y_labels = self.get_SumContext(vector=x_labels)\n",
        "        loss=np.zeros((1, 13))\n",
        "        for i in range(len(x_labels)):\n",
        "          prediction = self.forward(y_labels[i])\n",
        "          #print(\"prediction: \", prediction)\n",
        "          #print(f\"waited {i}: {x_labels[i]}\")\n",
        "          loss = loss + (prediction - x_labels[i])#self.lossFunction.forward(prediction,x_labels[i])\n",
        "          self.backward(prediction - x_labels[i])\n",
        "          self.optimizer.pre_update_params()\n",
        "          for layer in self.trainableLayers:\n",
        "            self.optimizer.update_params(layer)\n",
        "          self.optimizer.post_update_params()\n",
        "        lossBySentence = loss/len(x_labels)#np.mean(np.sqrt(loss*loss))\n",
        "        lossByEpoch+=np.mean(lossBySentence)#/len(x_labels)\n",
        "      print(\"Loss: \", lossByEpoch/len(input))\n",
        "\n",
        "  def getEmbedding(self, input):\n",
        "    oneHotVectors = self.generateOneHotVector(input)\n",
        "    embeddings = []\n",
        "    for oneHotVector in oneHotVectors:\n",
        "      self.layer1.forward(oneHotVector)\n",
        "      self.activationLayer1.forward(self.layer1.output)\n",
        "      embeddings.append(self.activationLayer1.output)\n",
        "    return embeddings\n",
        "\n"
      ]
    },
    {
      "cell_type": "markdown",
      "metadata": {
        "id": "GtAY5aM26F7z"
      },
      "source": [
        "Manejo de datos"
      ]
    },
    {
      "cell_type": "code",
      "execution_count": null,
      "metadata": {
        "colab": {
          "base_uri": "https://localhost:8080/"
        },
        "id": "Yez6tYvi6IRa",
        "outputId": "f64715ba-f498-497b-d40a-61608775fae5"
      },
      "outputs": [
        {
          "output_type": "stream",
          "name": "stdout",
          "text": [
            "the king of England is a man\n"
          ]
        }
      ],
      "source": [
        "# Leer set de entrenamiento\n",
        "filename = './english-spanish.pkl'\n",
        "\n",
        "#dataset = load(open(filename, 'rb'))\n",
        "#print(dataset[120000,0])\n",
        "#print(dataset[120000,1])\n",
        "dataset = np.array([np.array([\"el rey de Inglaterra es un hombre\",\"the king of England is a man\"]),\n",
        "                    np.array([\"la reina de Inglaterra es una mujer\",\"the queen of England is a woman\"]),\n",
        "                    np.array([\"Carlos es un rey\",\"Carlos is a king\"]),\n",
        "                    np.array([\"Andrea es una reina\",\"Andrea is a queen\"]),\n",
        "                    np.array([\"Carlos es un hombre\",\"Carlos is a man\"]),\n",
        "                    np.array([\"Andrea es una mujer\",\"Andrea is a woman\"])\n",
        "                    ])\n",
        "print(dataset[0,1])"
      ]
    },
    {
      "cell_type": "code",
      "execution_count": null,
      "metadata": {
        "colab": {
          "base_uri": "https://localhost:8080/"
        },
        "id": "8EAJkCaC6M8k",
        "outputId": "36bfba4c-8b95-465c-f9f1-f41b97ee7760"
      },
      "outputs": [
        {
          "output_type": "stream",
          "name": "stdout",
          "text": [
            "['el', 'rey', 'de', 'Inglaterra', 'es', 'un', 'hombre']\n",
            "['the', 'king', 'of', 'England', 'is', 'a', 'man']\n"
          ]
        }
      ],
      "source": [
        "# Crear \"tokens\"\n",
        "source_tokens = []\n",
        "for sentence in dataset[:,0]:\n",
        "  source_tokens.append(sentence.split(' '))\n",
        "print(source_tokens[0])\n",
        "\n",
        "target_tokens = []\n",
        "for sentence in dataset[:,1]:\n",
        "  target_tokens.append(sentence.split(' '))\n",
        "print(target_tokens[0])"
      ]
    },
    {
      "cell_type": "code",
      "execution_count": null,
      "metadata": {
        "id": "vkYe94YR6RKW"
      },
      "outputs": [],
      "source": [
        "def build_token_dict(token_list):\n",
        "  token_dict = {\n",
        "  #    '<PAD>': 0,\n",
        "  #    '<START>': 1,\n",
        "  #    '<END>': 2\n",
        "  }\n",
        "  for tokens in token_list:\n",
        "    for token in tokens:\n",
        "      if token not in token_dict:\n",
        "        token_dict[token] = len(token_dict)\n",
        "  return token_dict"
      ]
    },
    {
      "cell_type": "code",
      "execution_count": null,
      "metadata": {
        "colab": {
          "base_uri": "https://localhost:8080/"
        },
        "id": "NEo9slak6VVE",
        "outputId": "e56d0aa5-4b4a-4c6b-807d-dfa8341cc566"
      },
      "outputs": [
        {
          "output_type": "stream",
          "name": "stdout",
          "text": [
            "{'el': 0, 'rey': 1, 'de': 2, 'Inglaterra': 3, 'es': 4, 'un': 5, 'hombre': 6, 'la': 7, 'reina': 8, 'una': 9, 'mujer': 10, 'Carlos': 11, 'Andrea': 12}\n",
            "{'the': 0, 'king': 1, 'of': 2, 'England': 3, 'is': 4, 'a': 5, 'man': 6, 'queen': 7, 'woman': 8, 'Carlos': 9, 'Andrea': 10}\n",
            "{0: 'the', 1: 'king', 2: 'of', 3: 'England', 4: 'is', 5: 'a', 6: 'man', 7: 'queen', 8: 'woman', 9: 'Carlos', 10: 'Andrea'}\n"
          ]
        }
      ],
      "source": [
        "source_token_dict = build_token_dict(source_tokens)\n",
        "source_token_dict_inv = {v:k for k,v in source_token_dict.items()}\n",
        "target_token_dict = build_token_dict(target_tokens)\n",
        "target_token_dict_inv = {v:k for k,v in target_token_dict.items()}\n",
        "\n",
        "print(source_token_dict)\n",
        "print(target_token_dict)\n",
        "print(target_token_dict_inv)"
      ]
    },
    {
      "cell_type": "code",
      "execution_count": null,
      "metadata": {
        "id": "tjZq7UVG6YuO"
      },
      "outputs": [],
      "source": [
        "# Agregar start, end y pad a cada frase del set de entrenamiento\n",
        "#encoder_tokens = [['<START>'] + tokens + ['<END>'] for tokens in source_tokens]\n",
        "encoder_tokens = [tokens for tokens in source_tokens]\n",
        "#decoder_tokens = [['<START>'] + tokens + ['<END>'] for tokens in target_tokens]\n",
        "decoder_tokens = [tokens for tokens in target_tokens]\n",
        "#output_tokens = [tokens + ['<END>'] for tokens in target_tokens]\n",
        "output_tokens = [tokens for tokens in target_tokens]\n",
        "\n",
        "source_max_len = max(map(len, encoder_tokens))\n",
        "target_max_len = max(map(len, decoder_tokens))\n",
        "\n",
        "#encoder_tokens = [tokens + ['<PAD>']*(source_max_len-len(tokens)) for tokens in encoder_tokens]\n",
        "#decoder_tokens = [tokens + ['<PAD>']*(target_max_len-len(tokens)) for tokens in decoder_tokens]\n",
        "#output_tokens = [tokens + ['<PAD>']*(target_max_len-len(tokens)) for tokens in output_tokens ]"
      ]
    },
    {
      "cell_type": "code",
      "execution_count": null,
      "metadata": {
        "colab": {
          "base_uri": "https://localhost:8080/"
        },
        "id": "gcMGqShN6cLZ",
        "outputId": "0c470136-157c-4374-bb0e-2a2e5e35cea3"
      },
      "outputs": [
        {
          "output_type": "stream",
          "name": "stdout",
          "text": [
            "['la', 'reina', 'de', 'Inglaterra', 'es', 'una', 'mujer']\n"
          ]
        }
      ],
      "source": [
        "print(encoder_tokens[1])"
      ]
    },
    {
      "cell_type": "code",
      "execution_count": null,
      "metadata": {
        "id": "9KS6KDyq6h14"
      },
      "outputs": [],
      "source": [
        "encoder_input = [list(map(lambda x: source_token_dict[x], tokens)) for tokens in encoder_tokens]\n",
        "decoder_input = [list(map(lambda x: target_token_dict[x], tokens)) for tokens in decoder_tokens]\n",
        "output_decoded = [list(map(lambda x: [target_token_dict[x]], tokens)) for tokens in output_tokens]"
      ]
    },
    {
      "cell_type": "code",
      "execution_count": null,
      "metadata": {
        "colab": {
          "base_uri": "https://localhost:8080/"
        },
        "id": "6AvSmG0ZER9V",
        "outputId": "8913a730-1514-4015-eaed-2d857fb26a31"
      },
      "outputs": [
        {
          "output_type": "stream",
          "name": "stdout",
          "text": [
            "[7, 8, 2, 3, 4, 9, 10]\n"
          ]
        }
      ],
      "source": [
        "print(encoder_input[1])"
      ]
    },
    {
      "cell_type": "markdown",
      "metadata": {
        "id": "Re0auX7F-5kA"
      },
      "source": [
        "Entrenamos el Embedding"
      ]
    },
    {
      "cell_type": "code",
      "execution_count": null,
      "metadata": {
        "colab": {
          "base_uri": "https://localhost:8080/"
        },
        "id": "mof4mwjW6i7X",
        "outputId": "2f779eec-0661-451b-eee8-cae1b54135dd"
      },
      "outputs": [
        {
          "output_type": "stream",
          "name": "stdout",
          "text": [
            "13\n",
            "7\n",
            "6\n"
          ]
        }
      ],
      "source": [
        "vocab_size = len(source_token_dict)\n",
        "print(vocab_size)\n",
        "print(target_max_len)\n",
        "print(len(decoder_input))"
      ]
    },
    {
      "cell_type": "code",
      "execution_count": null,
      "metadata": {
        "id": "nDGZFqVG_JqH"
      },
      "outputs": [],
      "source": [
        "embedding = Embedding(vocab_size, source_max_len, 2)"
      ]
    },
    {
      "cell_type": "code",
      "execution_count": null,
      "metadata": {
        "colab": {
          "base_uri": "https://localhost:8080/"
        },
        "id": "smPhBX2g_dbt",
        "outputId": "d619178c-0f6a-4ae8-b68a-471949443396"
      },
      "outputs": [
        {
          "output_type": "stream",
          "name": "stdout",
          "text": [
            "Loss:  0.37820996052628675\n",
            "Loss:  0.21560944575712337\n",
            "Loss:  0.05183054119609048\n",
            "Loss:  0.011986202490468336\n",
            "Loss:  0.004316049483205192\n",
            "Loss:  0.00195344078547292\n",
            "Loss:  0.000975645471880073\n",
            "Loss:  0.0005462883935365994\n",
            "Loss:  0.0003701535322431868\n",
            "Loss:  0.0003112702839787297\n",
            "Loss:  0.0003035455936189935\n",
            "Loss:  0.0003173533614725685\n",
            "Loss:  0.00034313927966020944\n",
            "Loss:  0.0003824444521564523\n",
            "Loss:  0.00044289022981562403\n",
            "Loss:  0.0005355109085603977\n",
            "Loss:  0.0006735293428027431\n",
            "Loss:  0.0008719443398855778\n",
            "Loss:  0.001147315188219277\n",
            "Loss:  0.001516863754121507\n",
            "Loss:  0.001995285521965683\n",
            "Loss:  0.0025862612019439883\n",
            "Loss:  0.003264346705324665\n",
            "Loss:  0.00394715629351695\n",
            "Loss:  0.004481791624141587\n",
            "Loss:  0.004705046744922421\n",
            "Loss:  0.004568831397676397\n",
            "Loss:  0.004076638100977112\n",
            "Loss:  0.002750994003089362\n",
            "Loss:  0.001279941059721265\n",
            "Loss:  0.0005983907467830488\n",
            "Loss:  -0.0001957389060367079\n",
            "Loss:  -0.0010182162713223435\n",
            "Loss:  -0.0008420223677921222\n",
            "Loss:  -0.00047028488154106347\n",
            "Loss:  -0.0006926767330522225\n",
            "Loss:  -0.0003326401919179411\n",
            "Loss:  1.3513261558868324e-05\n",
            "Loss:  3.605744788988714e-05\n",
            "Loss:  0.0001295979390280253\n",
            "Loss:  9.737021919678454e-05\n",
            "Loss:  0.00017574489014061915\n",
            "Loss:  0.00015492563070616921\n",
            "Loss:  0.00030899691802273945\n",
            "Loss:  0.0005462433006651569\n",
            "Loss:  0.0008144762750205417\n",
            "Loss:  0.0010942799461629996\n",
            "Loss:  0.0013691883099567238\n",
            "Loss:  0.0016317007016875542\n",
            "Loss:  0.0018795938799405323\n",
            "Loss:  0.002113241006464908\n",
            "Loss:  0.002333926368289966\n",
            "Loss:  0.0025430749535341984\n",
            "Loss:  0.0027419639653230095\n",
            "Loss:  0.0029316714138744922\n",
            "Loss:  0.003113118208656233\n",
            "Loss:  0.0032871320379395477\n",
            "Loss:  0.003454501612673583\n",
            "Loss:  0.0036160100389260054\n",
            "Loss:  0.003772446096790736\n",
            "Loss:  0.003924597335433159\n",
            "Loss:  0.004073231432286004\n",
            "Loss:  0.0042190729161331484\n",
            "Loss:  0.004362781458069036\n",
            "Loss:  0.00450493598473044\n",
            "Loss:  0.00464602653969461\n",
            "Loss:  0.00478645374889383\n",
            "Loss:  0.004926534333409785\n",
            "Loss:  0.005066510463503839\n",
            "Loss:  0.005206560746215296\n",
            "Loss:  0.005346811068605209\n",
            "Loss:  0.0054873441563098\n",
            "Loss:  0.005628207369898719\n",
            "Loss:  0.005769418818978702\n",
            "Loss:  0.00591097224367546\n",
            "Loss:  0.0060528412582422884\n",
            "Loss:  0.0061949834832981145\n",
            "Loss:  0.006337344872935551\n",
            "Loss:  0.006479864273304765\n",
            "Loss:  0.006622478046586289\n",
            "Loss:  0.00676512454481451\n",
            "Loss:  0.006907748335448077\n",
            "Loss:  0.007120950586901685\n",
            "Loss:  0.007271576500526913\n",
            "Loss:  0.007459059100459385\n",
            "Loss:  0.007646026299763038\n",
            "Loss:  0.0077820819260869326\n",
            "Loss:  0.007936830502384182\n",
            "Loss:  0.008090922424366093\n",
            "Loss:  0.00824544841441247\n",
            "Loss:  0.008401029010215113\n",
            "Loss:  0.008557091947723774\n",
            "Loss:  0.008686594548193217\n",
            "Loss:  0.008839483532845627\n",
            "Loss:  0.00899475321249267\n",
            "Loss:  0.009149556113069543\n",
            "Loss:  0.009306986893933288\n",
            "Loss:  0.00946438509269564\n",
            "Loss:  0.009619258465634094\n",
            "Loss:  0.00977105765455032\n",
            "Loss:  0.009918969217068427\n",
            "Loss:  0.010061479407559804\n",
            "Loss:  0.01019727392238066\n",
            "Loss:  0.010325416863877826\n",
            "Loss:  0.010445064116667839\n",
            "Loss:  0.010555384689576203\n",
            "Loss:  0.010655661006656299\n",
            "Loss:  0.010745353575931331\n",
            "Loss:  0.010824106662142839\n",
            "Loss:  0.01089174742502133\n",
            "Loss:  0.010948288468797385\n",
            "Loss:  0.010993910824940159\n",
            "Loss:  0.010915450652164085\n",
            "Loss:  0.010831797918573862\n",
            "Loss:  0.01096327476269922\n",
            "Loss:  0.010756575513134978\n",
            "Loss:  0.010619507115994742\n",
            "Loss:  0.010394728961469167\n",
            "Loss:  0.010884590993712877\n",
            "Loss:  0.011434618352159975\n",
            "Loss:  0.010875920238903651\n",
            "Loss:  0.01153543773721234\n",
            "Loss:  0.01093690606990333\n",
            "Loss:  0.012376577278785057\n",
            "Loss:  0.00788664222690673\n",
            "Loss:  0.013382245664444126\n",
            "Loss:  0.012510828627317337\n",
            "Loss:  0.010407410802392209\n",
            "Loss:  0.011893252356824651\n",
            "Loss:  0.011092587544081866\n",
            "Loss:  0.01067463089767981\n",
            "Loss:  0.011449197045724085\n",
            "Loss:  0.010963020715267675\n",
            "Loss:  0.010573366127147868\n",
            "Loss:  0.011088124974776972\n",
            "Loss:  0.010634708673543112\n",
            "Loss:  0.010851192536742904\n",
            "Loss:  0.010596127798104926\n",
            "Loss:  0.010636312284649738\n",
            "Loss:  0.010495955250003556\n",
            "Loss:  0.010381340510468164\n",
            "Loss:  0.010582027742269337\n",
            "Loss:  0.010073483106172797\n",
            "Loss:  0.010094408819560856\n",
            "Loss:  0.010428059955888885\n",
            "Loss:  0.010193890827745694\n",
            "Loss:  0.010334696851134896\n",
            "Loss:  0.009738353886859225\n",
            "Loss:  0.009800984270432805\n",
            "Loss:  0.009751195145808427\n",
            "Loss:  0.009709604348581069\n",
            "Loss:  0.009934144427938864\n",
            "Loss:  0.00995398143360339\n",
            "Loss:  0.010067730464271505\n",
            "Loss:  0.009494629354572248\n",
            "Loss:  0.00945974421822193\n",
            "Loss:  0.009431515868477706\n",
            "Loss:  0.009405283036674981\n",
            "Loss:  0.009527421722580235\n",
            "Loss:  0.009471949418279961\n",
            "Loss:  0.00895398464169398\n",
            "Loss:  0.009135831155685835\n",
            "Loss:  0.009077343950579526\n",
            "Loss:  0.008984905141967179\n",
            "Loss:  0.00901956083808178\n",
            "Loss:  0.008840360643943114\n",
            "Loss:  0.00897748078702248\n",
            "Loss:  0.00962151012569471\n",
            "Loss:  0.009081683999114909\n",
            "Loss:  0.009200442410667269\n",
            "Loss:  0.008590213203331696\n",
            "Loss:  0.00881897211147363\n",
            "Loss:  0.008828016720425826\n",
            "Loss:  0.008796064374029718\n",
            "Loss:  0.008829253149335395\n",
            "Loss:  0.008746235943709746\n",
            "Loss:  0.008789527811957623\n",
            "Loss:  0.008707857260658024\n",
            "Loss:  0.008758569418304045\n",
            "Loss:  0.009075661972095347\n",
            "Loss:  0.00883407085443958\n",
            "Loss:  0.008540397319482031\n",
            "Loss:  0.008689203814924717\n",
            "Loss:  0.008643141846096656\n",
            "Loss:  0.009467805205829237\n",
            "Loss:  0.008277538113852989\n",
            "Loss:  0.008990912832851689\n",
            "Loss:  0.00854023443623344\n",
            "Loss:  0.00876155911549495\n",
            "Loss:  0.009052600302283886\n",
            "Loss:  0.008804888185931925\n",
            "Loss:  0.008572214873522251\n",
            "Loss:  0.008764891613404121\n",
            "Loss:  0.008715188882446196\n",
            "Loss:  0.008862019339524187\n",
            "Loss:  0.008729505096563702\n",
            "Loss:  0.008872740356562311\n",
            "Loss:  0.008737168446084546\n",
            "Loss:  0.008902778490787225\n",
            "Loss:  0.009214102651832787\n",
            "Loss:  0.008781809957432345\n",
            "Loss:  0.009384121451453563\n",
            "Loss:  0.008642464041414081\n",
            "Loss:  0.009042675994223232\n",
            "Loss:  0.009051280509515555\n",
            "Loss:  0.008923390797161665\n",
            "Loss:  0.009123435415367016\n",
            "Loss:  0.008925319238978631\n",
            "Loss:  0.009167349174330743\n",
            "Loss:  0.008955613220554118\n",
            "Loss:  0.009666035072183566\n",
            "Loss:  0.008845147330277737\n",
            "Loss:  0.009143460950723504\n",
            "Loss:  0.008961481997492046\n",
            "Loss:  0.009389518747640971\n",
            "Loss:  0.009096288704836808\n",
            "Loss:  0.009418104229534952\n",
            "Loss:  0.009126683283170638\n",
            "Loss:  0.009649866103411186\n",
            "Loss:  0.009379364812663214\n",
            "Loss:  0.009785788859632964\n",
            "Loss:  0.009292361572244131\n",
            "Loss:  0.00940454692238009\n",
            "Loss:  0.00961113874560986\n",
            "Loss:  0.009769593723745374\n",
            "Loss:  0.009781138478961558\n",
            "Loss:  0.009846583799218865\n",
            "Loss:  0.009815111529781297\n",
            "Loss:  0.00986366858548682\n",
            "Loss:  0.010439986924018823\n",
            "Loss:  0.0093356998332431\n",
            "Loss:  0.00996740816156642\n",
            "Loss:  0.010554047201012369\n",
            "Loss:  0.009717188987829209\n",
            "Loss:  0.009778824471556218\n",
            "Loss:  0.010212444766764401\n",
            "Loss:  0.010477770146295062\n",
            "Loss:  0.01051185143540065\n",
            "Loss:  0.010499217802285988\n",
            "Loss:  0.010526487901545431\n",
            "Loss:  0.010625403358734057\n",
            "Loss:  0.010682461249486222\n",
            "Loss:  0.010687423932998411\n",
            "Loss:  0.011329870732907173\n",
            "Loss:  0.01017487537486681\n",
            "Loss:  0.010597713199776817\n",
            "Loss:  0.011789973538035488\n",
            "Loss:  0.01137750543486137\n",
            "Loss:  0.011329019934982512\n",
            "Loss:  0.01123285797341872\n",
            "Loss:  0.011265035288986591\n",
            "Loss:  0.011299648476112605\n",
            "Loss:  0.011362902489828415\n",
            "Loss:  0.011606273746712192\n",
            "Loss:  0.011994030165183809\n",
            "Loss:  0.011917796423369658\n",
            "Loss:  0.011570247386394178\n",
            "Loss:  0.011819225938156255\n",
            "Loss:  0.011848119018811215\n",
            "Loss:  0.011994036569482848\n",
            "Loss:  0.011776098399810345\n",
            "Loss:  0.01202512856483539\n",
            "Loss:  0.01194571936026381\n",
            "Loss:  0.011950127472660783\n",
            "Loss:  0.012834535653384329\n",
            "Loss:  0.01107100031006448\n",
            "Loss:  0.011844671508462827\n",
            "Loss:  0.012476901477645042\n",
            "Loss:  0.0122938418965989\n",
            "Loss:  0.012485349536370843\n",
            "Loss:  0.012417861920881264\n",
            "Loss:  0.012365427826735836\n",
            "Loss:  0.012208734153407326\n",
            "Loss:  0.012208314361837837\n",
            "Loss:  0.01244946119357876\n",
            "Loss:  0.012425755521235453\n",
            "Loss:  0.01281277766209934\n",
            "Loss:  0.010989225756451315\n",
            "Loss:  0.012024404874699695\n",
            "Loss:  0.012337433079053592\n",
            "Loss:  0.012454984941372546\n",
            "Loss:  0.0122295836010555\n",
            "Loss:  0.012570897446774552\n",
            "Loss:  0.012247553524420099\n",
            "Loss:  0.01213612934200099\n",
            "Loss:  0.012210807511592087\n",
            "Loss:  0.01189402466896207\n",
            "Loss:  0.012360930813039864\n",
            "Loss:  0.011994015579685042\n",
            "Loss:  0.012569967702387982\n",
            "Loss:  0.010814970603951505\n",
            "Loss:  0.011319377992792869\n",
            "Loss:  0.012029850514647798\n",
            "Loss:  0.012243249917065276\n",
            "Loss:  0.01180942326426365\n",
            "Loss:  0.011817759653890094\n",
            "Loss:  0.011688111209716898\n",
            "Loss:  0.011985161409118811\n",
            "Loss:  0.011594705354123672\n",
            "Loss:  0.01159417498158871\n",
            "Loss:  0.011294989966188213\n",
            "Loss:  0.011408481203597026\n",
            "Loss:  0.012325108615773494\n",
            "Loss:  0.010245194465522743\n",
            "Loss:  0.01050629096877742\n",
            "Loss:  0.011241090277289803\n",
            "Loss:  0.011275481308703863\n",
            "Loss:  0.011511196725323726\n",
            "Loss:  0.01120260809712672\n",
            "Loss:  0.01104137723735061\n",
            "Loss:  0.01095432832206659\n",
            "Loss:  0.010952247338910941\n",
            "Loss:  0.010700714880158418\n",
            "Loss:  0.01116042347816868\n",
            "Loss:  0.010717167037387438\n",
            "Loss:  0.011111513590569588\n",
            "Loss:  0.00977347190667051\n",
            "Loss:  0.009847731912315536\n",
            "Loss:  0.01050175040823345\n",
            "Loss:  0.01082171962438948\n",
            "Loss:  0.01047947167771641\n",
            "Loss:  0.010316613032293481\n",
            "Loss:  0.01042069467966581\n",
            "Loss:  0.010055485520075116\n",
            "Loss:  0.010220491057582012\n",
            "Loss:  0.01046613966309412\n",
            "Loss:  0.010013073886097014\n",
            "Loss:  0.010377711666257092\n",
            "Loss:  0.009092619367804077\n",
            "Loss:  0.009323289420476447\n",
            "Loss:  0.009924004102672397\n",
            "Loss:  0.009600676903547262\n",
            "Loss:  0.010338920168425858\n",
            "Loss:  0.009585464483509989\n",
            "Loss:  0.009676954229765012\n",
            "Loss:  0.009584928702066722\n",
            "Loss:  0.009491960308954142\n",
            "Loss:  0.009460647825953817\n",
            "Loss:  0.009832521668622392\n",
            "Loss:  0.009944860496891242\n",
            "Loss:  0.008709911391918875\n",
            "Loss:  0.008474733807642092\n",
            "Loss:  0.009191688700991761\n",
            "Loss:  0.009185855883710273\n",
            "Loss:  0.009176719752083552\n",
            "Loss:  0.00911743228245903\n",
            "Loss:  0.00905203830070895\n",
            "Loss:  0.009563201338657632\n",
            "Loss:  0.008818421643431421\n",
            "Loss:  0.009107837539597327\n",
            "Loss:  0.008665674708082194\n",
            "Loss:  0.008830128896383495\n",
            "Loss:  0.009336020129796944\n",
            "Loss:  0.007990059071526265\n",
            "Loss:  0.007879113245022927\n",
            "Loss:  0.008976311671356126\n",
            "Loss:  0.008343832336293685\n",
            "Loss:  0.008599941401885572\n",
            "Loss:  0.008559420100371933\n",
            "Loss:  0.008346277203478593\n",
            "Loss:  0.008361223400305741\n",
            "Loss:  0.0082855229370785\n",
            "Loss:  0.008217312902412028\n",
            "Loss:  0.008378242102517282\n",
            "Loss:  0.008887903227548604\n",
            "Loss:  0.007928025896813093\n",
            "Loss:  0.007725992307738791\n",
            "Loss:  0.008018180347464206\n",
            "Loss:  0.008017681113521467\n",
            "Loss:  0.007980083922236963\n",
            "Loss:  0.007970987115559951\n",
            "Loss:  0.007869539361166475\n",
            "Loss:  0.008452658944043947\n",
            "Loss:  0.008395529780964478\n",
            "Loss:  0.0072833707770103675\n",
            "Loss:  0.007206005117469117\n",
            "Loss:  0.007611776958350108\n",
            "Loss:  0.007747894548518225\n",
            "Loss:  0.00772255649605047\n",
            "Loss:  0.00792215684785695\n",
            "Loss:  0.007446477048159379\n",
            "Loss:  0.007655700650282957\n",
            "Loss:  0.008150426516762907\n",
            "Loss:  0.007656189094007973\n",
            "Loss:  0.007592550210034313\n",
            "Loss:  0.007570649175579382\n",
            "Loss:  0.007997200909781845\n",
            "Loss:  0.007457881630612497\n",
            "Loss:  0.007034658952456366\n",
            "Loss:  0.007270501700148875\n",
            "Loss:  0.007343167646112522\n",
            "Loss:  0.007605015340365001\n",
            "Loss:  0.007139957682521388\n",
            "Loss:  0.007353599004637248\n",
            "Loss:  0.007325362123247736\n",
            "Loss:  0.007248724570685343\n",
            "Loss:  0.00832897560595822\n",
            "Loss:  0.0071906017089331\n",
            "Loss:  0.006709215677613521\n",
            "Loss:  0.007019595361920389\n",
            "Loss:  0.007071367631998307\n",
            "Loss:  0.0071016663079956355\n",
            "Loss:  0.007107325858122339\n",
            "Loss:  0.007344178253242503\n",
            "Loss:  0.006876869674272035\n",
            "Loss:  0.0070826878360230675\n",
            "Loss:  0.007105773078311304\n",
            "Loss:  0.00699768646582852\n",
            "Loss:  0.007603365818449542\n",
            "Loss:  0.006830367527210723\n",
            "Loss:  0.006944791354235098\n",
            "Loss:  0.006771924705881008\n",
            "Loss:  0.006801918663186471\n",
            "Loss:  0.00690211937053815\n",
            "Loss:  0.006920094688513039\n",
            "Loss:  0.0069223028055006115\n",
            "Loss:  0.007135919449644094\n",
            "Loss:  0.006760756762485898\n",
            "Loss:  0.007198850058464431\n",
            "Loss:  0.0071132394265531\n",
            "Loss:  0.0066040449066035135\n",
            "Loss:  0.006827289109612354\n",
            "Loss:  0.006786799774759117\n",
            "Loss:  0.006842045247352167\n",
            "Loss:  0.0070724052236047635\n",
            "Loss:  0.007655919438264054\n",
            "Loss:  0.0063947776413754475\n",
            "Loss:  0.0071236888472041545\n",
            "Loss:  0.0065833507688986895\n",
            "Loss:  0.0066637666205383835\n",
            "Loss:  0.006879717753754522\n",
            "Loss:  0.00714507737567422\n",
            "Loss:  0.006929874209745758\n",
            "Loss:  0.006428631031570045\n",
            "Loss:  0.0067315491240948835\n",
            "Loss:  0.006710106177038676\n",
            "Loss:  0.006804564964537887\n",
            "Loss:  0.0066879032962670094\n",
            "Loss:  0.006825980467640655\n",
            "Loss:  0.00708349949320129\n",
            "Loss:  0.005283100708368631\n",
            "Loss:  0.00513782415442455\n",
            "Loss:  0.006466144092512255\n",
            "Loss:  0.006715851550132983\n",
            "Loss:  0.007361931997692171\n",
            "Loss:  0.00683984910558351\n",
            "Loss:  0.007231256896581966\n",
            "Loss:  0.006835026934439701\n",
            "Loss:  0.0067323602710310905\n",
            "Loss:  0.006698193412084765\n",
            "Loss:  0.0067715344596452\n",
            "Loss:  0.006918416480620568\n",
            "Loss:  0.00734368971523305\n",
            "Loss:  0.0063405862795479434\n",
            "Loss:  0.00663606283587202\n",
            "Loss:  0.00668008555801784\n",
            "Loss:  0.006449735445954505\n",
            "Loss:  0.0066685271559870675\n",
            "Loss:  0.006508426193396308\n",
            "Loss:  0.006667393462104903\n",
            "Loss:  0.006444252233105599\n",
            "Loss:  0.0066601244118152285\n",
            "Loss:  0.006708274073127547\n",
            "Loss:  0.006993576510701542\n",
            "Loss:  0.006404204188758239\n",
            "Loss:  0.006638260046080406\n",
            "Loss:  0.006547821371486735\n",
            "Loss:  0.0066251694894703264\n",
            "Loss:  0.006914576153187478\n",
            "Loss:  0.00667861146020583\n",
            "Loss:  0.006637044400450732\n",
            "Loss:  0.0065328635273621165\n",
            "Loss:  0.006611742007375629\n",
            "Loss:  0.0067886339366505745\n",
            "Loss:  0.006864859823245071\n",
            "Loss:  0.0068101124365229195\n",
            "Loss:  0.007460068156719555\n",
            "Loss:  0.006834393241913118\n",
            "Loss:  0.007109496755632167\n",
            "Loss:  0.006841922619106299\n",
            "Loss:  0.006827919642689181\n",
            "Loss:  0.0069458268933482595\n",
            "Loss:  0.0071582254142042966\n",
            "Loss:  0.00639686025683452\n",
            "Loss:  0.006285046670461487\n",
            "Loss:  0.00681759646037277\n",
            "Loss:  0.006903944131311474\n",
            "Loss:  0.006858649596658606\n",
            "Loss:  0.00698573423915898\n",
            "Loss:  0.007038738652219621\n",
            "Loss:  0.007357280338471338\n",
            "Loss:  0.00672714723915635\n",
            "Loss:  0.006981483337364935\n",
            "Loss:  0.006954624465691413\n",
            "Loss:  0.006902619003470609\n",
            "Loss:  0.006999724803479854\n",
            "Loss:  0.006870148193632411\n",
            "Loss:  0.007017943884850928\n",
            "Loss:  0.007031200900096554\n",
            "Loss:  0.007099743832364796\n"
          ]
        }
      ],
      "source": [
        "embedding.train(encoder_input, 500)"
      ]
    },
    {
      "cell_type": "code",
      "execution_count": null,
      "metadata": {
        "colab": {
          "base_uri": "https://localhost:8080/"
        },
        "id": "pLlcUFV1ILch",
        "outputId": "1c41cc04-5851-4660-a624-01c5ff5c6e4d"
      },
      "outputs": [
        {
          "output_type": "stream",
          "name": "stdout",
          "text": [
            "5\n",
            "un\n"
          ]
        }
      ],
      "source": [
        "clave=source_token_dict['un']\n",
        "print(clave)\n",
        "valor=source_token_dict_inv[clave]\n",
        "print(valor)\n",
        "#print(source_token_dict['women'])\n",
        "#print(source_token_dict['queen'])"
      ]
    },
    {
      "cell_type": "code",
      "execution_count": null,
      "metadata": {
        "colab": {
          "base_uri": "https://localhost:8080/"
        },
        "id": "faSpTmrsH0vm",
        "outputId": "b25e466c-2ee9-4dee-c349-69bb500515ed"
      },
      "outputs": [
        {
          "output_type": "stream",
          "name": "stdout",
          "text": [
            "13\n"
          ]
        }
      ],
      "source": [
        "embedding_dic={}\n",
        "for i in range(len(source_token_dict)):\n",
        "  response = embedding.getEmbedding([i])\n",
        "  embedding_dic[i]=response\n",
        "print(len(embedding_dic))\n"
      ]
    },
    {
      "cell_type": "code",
      "source": [
        "import pickle\n",
        "with open(\"embeddings.pkl\", \"wb\") as tf:\n",
        "    pickle.dump(embedding_dic, tf)"
      ],
      "metadata": {
        "id": "ZPZhimdGF86R"
      },
      "execution_count": null,
      "outputs": []
    },
    {
      "cell_type": "code",
      "source": [
        "#Notamos que los resultados son muy variados, por lo que cargamos uno por defecto\n",
        "with open(\"embeddings.pkl\", \"rb\") as tf:\n",
        "    embedding_dic = pickle.load(tf)"
      ],
      "metadata": {
        "id": "_yGtFw21Psw_"
      },
      "execution_count": null,
      "outputs": []
    },
    {
      "cell_type": "code",
      "source": [
        "import matplotlib.pyplot as plt\n",
        "x=[]\n",
        "y=[]\n",
        "for key, value in embedding_dic.items():\n",
        "  x.append(embedding_dic[key][0][0][0])\n",
        "  y.append(embedding_dic[key][0][0][1])\n",
        "  #words.append(source_token_dict_inv[key])\n",
        "plt.scatter(x, y)\n",
        "\n",
        "for key, value in embedding_dic.items():\n",
        "  plt.annotate(source_token_dict_inv[key], (embedding_dic[key][0][0][0], embedding_dic[key][0][0][1]))\n"
      ],
      "metadata": {
        "colab": {
          "base_uri": "https://localhost:8080/",
          "height": 430
        },
        "id": "oj8jDxPiHb3w",
        "outputId": "53688abe-dc58-44e4-b691-3369a370d5ab"
      },
      "execution_count": null,
      "outputs": [
        {
          "output_type": "display_data",
          "data": {
            "text/plain": [
              "<Figure size 640x480 with 1 Axes>"
            ],
            "image/png": "[encoded data removed]"
          },
          "metadata": {}
        }
      ]
    },
    {
      "cell_type": "code",
      "execution_count": null,
      "metadata": {
        "colab": {
          "base_uri": "https://localhost:8080/"
        },
        "id": "xqkwovI8Vey-",
        "outputId": "fbfd2649-879b-4745-9ada-7bbe51d479ea"
      },
      "outputs": [
        {
          "output_type": "stream",
          "name": "stdout",
          "text": [
            "[array([[2.79838548, 3.99352233]])]\n"
          ]
        }
      ],
      "source": [
        "embedding_of_rey = embedding_dic[1]\n",
        "print(embedding_of_rey)"
      ]
    },
    {
      "cell_type": "code",
      "execution_count": null,
      "metadata": {
        "colab": {
          "base_uri": "https://localhost:8080/"
        },
        "id": "baYuk5cRV4EV",
        "outputId": "a00efc84-47e7-42a6-8305-810e4a18e64f"
      },
      "outputs": [
        {
          "output_type": "stream",
          "name": "stdout",
          "text": [
            "[array([[0.        , 3.72389873]])]\n"
          ]
        }
      ],
      "source": [
        "embedding_of_hombre = embedding_dic[6]\n",
        "print(embedding_of_hombre)"
      ]
    },
    {
      "cell_type": "code",
      "execution_count": null,
      "metadata": {
        "colab": {
          "base_uri": "https://localhost:8080/"
        },
        "id": "xMXE_23iWH2E",
        "outputId": "fcd5c17d-a0fa-493d-b854-cff5e8bc4cdb"
      },
      "outputs": [
        {
          "output_type": "stream",
          "name": "stdout",
          "text": [
            "[array([[2.2120002 , 0.57856849]])]\n"
          ]
        }
      ],
      "source": [
        "embedding_of_mujer = embedding_dic[10]\n",
        "print(embedding_of_mujer)"
      ]
    },
    {
      "cell_type": "code",
      "execution_count": null,
      "metadata": {
        "colab": {
          "base_uri": "https://localhost:8080/"
        },
        "id": "21MF3a8KWSHv",
        "outputId": "90c4a15a-eb1e-4795-c9bc-28753bc9bf72"
      },
      "outputs": [
        {
          "output_type": "stream",
          "name": "stdout",
          "text": [
            "[[5.01038568 0.84819209]]\n",
            "('reina', 0.6479086502553051)\n",
            "[array([[4.49982801, 1.24708618]])]\n",
            "[array([[4.49982801, 1.24708618]])]\n"
          ]
        }
      ],
      "source": [
        "analogia = embedding_of_rey[0]-embedding_of_hombre[0]+embedding_of_mujer[0]\n",
        "print(analogia)\n",
        "distances={}\n",
        "for key, value in embedding_dic.items():\n",
        "  distance=cosine_similarity(analogia, value)\n",
        "  distances[source_token_dict_inv[key]]=distance\n",
        "sorted_similarities = sorted(distances.items(), key=lambda x: x[1])\n",
        "print(sorted_similarities[0])\n",
        "print(embedding_dic[source_token_dict[sorted_similarities[0][0]]])\n",
        "print(embedding_dic[8])#source_token_dict[sorted_similarities[0][0]]])"
      ]
    },
    {
      "cell_type": "code",
      "execution_count": null,
      "metadata": {
        "id": "erdqVc5iYT3i"
      },
      "outputs": [],
      "source": [
        "def cosine_similarity(v1, v2):\n",
        "  #return (np.array(v1)@np.array(v2))/(np.linalg.norm(v1)*np.linalg.norm(v2))\n",
        "  return np.sqrt(np.sum((np.power((v1-v2),2))))"
      ]
    },
    {
      "cell_type": "code",
      "execution_count": null,
      "metadata": {
        "id": "LvgKb5MRzuwV"
      },
      "outputs": [],
      "source": [
        "def most_similar(word, word_dict, top_k=4):\n",
        "  if word not in word_dict:\n",
        "    raise ValueError(f\"{word} not found in the dictionary\")\n",
        "  else:\n",
        "    key = word_dict[word]\n",
        "\n",
        "    queryVector = embedding_dic[key]\n",
        "\n",
        "    similarities = {}\n",
        "    for key2, value in embedding_dic.items():\n",
        "      if key!=key2:\n",
        "        similarity = cosine_similarity(queryVector[0][0], value[0][0])\n",
        "        similarities[source_token_dict_inv[key2]]=similarity\n",
        "  sorted_similarities = sorted(similarities.items(), key=lambda x: x[1])\n",
        "  return sorted_similarities[:top_k]"
      ]
    },
    {
      "cell_type": "code",
      "execution_count": null,
      "metadata": {
        "colab": {
          "base_uri": "https://localhost:8080/"
        },
        "id": "3jTlJoK92GOm",
        "outputId": "a63eeb5c-68fe-4d77-98c8-6c61d9d7339e"
      },
      "outputs": [
        {
          "output_type": "execute_result",
          "data": {
            "text/plain": [
              "[('es', 0.016783978304294678),\n",
              " ('la', 1.4846223221923354),\n",
              " ('el', 2.2444004849108032),\n",
              " ('rey', 2.8113445485102053)]"
            ]
          },
          "metadata": {},
          "execution_count": 790
        }
      ],
      "source": [
        "most_similar('hombre', source_token_dict, 4)"
      ]
    },
    {
      "cell_type": "markdown",
      "metadata": {
        "id": "U74LNNu1Io2U"
      },
      "source": [
        "**Ahora veremos el término \"Positional Encoding\"**"
      ]
    },
    {
      "cell_type": "code",
      "execution_count": null,
      "metadata": {
        "id": "hcA79xihIwbb"
      },
      "outputs": [],
      "source": [
        "def get_positionalEncoding(len_Sentence, dim_embedding):\n",
        "  pos = np.arange(len_Sentence)[:, np.newaxis]\n",
        "  angle_rads = pos / np.power(10000, (2 * (np.arange(dim_embedding) // 2)) / np.float32(dim_embedding))\n",
        "  # Aplicar seno a los índices pares en el arreglo\n",
        "  angle_rads[:, 0::2] = np.sin(angle_rads[:, 0::2])\n",
        "  # Aplicar coseno a los índices impares en el arreglo\n",
        "  angle_rads[:, 1::2] = np.cos(angle_rads[:, 1::2])\n",
        "  return angle_rads"
      ]
    },
    {
      "cell_type": "code",
      "execution_count": null,
      "metadata": {
        "colab": {
          "base_uri": "https://localhost:8080/"
        },
        "id": "_dWkFjGvqi7z",
        "outputId": "e06198b9-7a11-4db8-b5f9-2d40c3a1cc26"
      },
      "outputs": [
        {
          "output_type": "stream",
          "name": "stdout",
          "text": [
            "[0. 1.]\n",
            "[0.84147098 0.54030231]\n",
            "[ 0.90929743 -0.41614684]\n",
            "[ 0.14112001 -0.9899925 ]\n",
            "[-0.7568025  -0.65364362]\n",
            "[-0.95892427  0.28366219]\n",
            "[-0.2794155   0.96017029]\n"
          ]
        }
      ],
      "source": [
        "positional_encoding = get_positionalEncoding(7, 2)\n",
        "for vector in positional_encoding:\n",
        "  print(vector)"
      ]
    },
    {
      "cell_type": "code",
      "execution_count": null,
      "metadata": {
        "colab": {
          "base_uri": "https://localhost:8080/",
          "height": 782
        },
        "id": "O0as2s2T0Y0Y",
        "outputId": "02ab8588-8dfc-486a-aa06-d7efecf981f1"
      },
      "outputs": [
        {
          "output_type": "execute_result",
          "data": {
            "text/plain": [
              "<matplotlib.colorbar.Colorbar at 0x7cf4cb3dbca0>"
            ]
          },
          "metadata": {},
          "execution_count": 781
        },
        {
          "output_type": "display_data",
          "data": {
            "text/plain": [
              "<Figure size 400x933.333 with 2 Axes>"
            ],
            "image/png": "[encoded data removed]"
          },
          "metadata": {}
        }
      ],
      "source": [
        "import matplotlib.pyplot as plt\n",
        "P = get_positionalEncoding(7, 3)\n",
        "cax = plt.matshow(P)\n",
        "plt.gcf().colorbar(cax)"
      ]
    },
    {
      "cell_type": "markdown",
      "metadata": {
        "id": "gsTckgK6Hrj4"
      },
      "source": [
        "Sumamos el embedding + la codificación posicional para la frase **la reina de inglarterra es una mujer**"
      ]
    },
    {
      "cell_type": "code",
      "execution_count": null,
      "metadata": {
        "colab": {
          "base_uri": "https://localhost:8080/"
        },
        "id": "oapwTAJmH4v3",
        "outputId": "613cca37-7f16-4bf7-b810-5400a8871066"
      },
      "outputs": [
        {
          "output_type": "stream",
          "name": "stdout",
          "text": [
            "Embedding\n",
            "[0.         5.20852105]\n",
            "[4.49982801 1.24708618]\n",
            "[2.08608161 0.        ]\n",
            "[0. 0.]\n",
            "[0.         3.70711475]\n",
            "[3.43717866 0.        ]\n",
            "[2.2120002  0.57856849]\n",
            "\n",
            "Positional Encoding\n",
            "[0. 1.]\n",
            "[0.84147098 0.54030231]\n",
            "[ 0.90929743 -0.41614684]\n",
            "[ 0.14112001 -0.9899925 ]\n",
            "[-0.7568025  -0.65364362]\n",
            "[-0.95892427  0.28366219]\n",
            "[-0.2794155   0.96017029]\n",
            "\n",
            "Input for Encoder\n",
            "[0.         6.20852105]\n",
            "[5.341299   1.78738849]\n",
            "[ 2.99537904 -0.41614684]\n",
            "[ 0.14112001 -0.9899925 ]\n",
            "[-0.7568025   3.05347113]\n",
            "[2.47825438 0.28366219]\n",
            "[1.9325847  1.53873878]\n"
          ]
        }
      ],
      "source": [
        "embedding_of_sentence = embedding.getEmbedding(encoder_input[1])\n",
        "print(\"Embedding\")\n",
        "for value in embedding_of_sentence:\n",
        "  print(value[0])\n",
        "print(\"\\nPositional Encoding\")\n",
        "for value in np.array(positional_encoding):\n",
        "  print(value)\n",
        "print(\"\\nInput for Encoder\")\n",
        "for i in range(len(embedding_of_sentence)):\n",
        "  print(embedding_of_sentence[i][0]+np.array(positional_encoding)[i])\n"
      ]
    },
    {
      "cell_type": "code",
      "execution_count": null,
      "metadata": {
        "id": "ASM0zjgWcXC8"
      },
      "outputs": [],
      "source": [
        "import numpy as np"
      ]
    },
    {
      "cell_type": "code",
      "execution_count": null,
      "metadata": {
        "colab": {
          "base_uri": "https://localhost:8080/"
        },
        "id": "0xb76eFqcRLR",
        "outputId": "62963558-c027-4232-e390-13ef1bfa5b5c"
      },
      "outputs": [
        {
          "data": {
            "text/plain": [
              "3.1622776601683795"
            ]
          },
          "execution_count": 8,
          "metadata": {},
          "output_type": "execute_result"
        }
      ],
      "source": [
        "np.sqrt(np.sum(np.power(np.array([3, 2, 5])-np.array([2, 2, 2]), 2)))"
      ]
    }
  ],
  "metadata": {
    "colab": {
      "provenance": [],
      "authorship_tag": "ABX9TyOmqajQG7RxJnLRoKvQQB3i",
      "include_colab_link": true
    },
    "kernelspec": {
      "display_name": "Python 3",
      "name": "python3"
    },
    "language_info": {
      "name": "python"
    }
  },
  "nbformat": 4,
  "nbformat_minor": 0
}